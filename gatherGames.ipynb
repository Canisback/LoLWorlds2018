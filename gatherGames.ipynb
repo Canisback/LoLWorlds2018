{
 "cells": [
  {
   "cell_type": "markdown",
   "metadata": {},
   "source": [
    "This notebook is used to gather the data about the games played during the World 2018"
   ]
  },
  {
   "cell_type": "markdown",
   "metadata": {},
   "source": [
    "To access to this data, we rely on the lolesports.com website, and some undocumented endpoints it uses. The data from these endpoints is quite messy and it can be tricky to get to what we want."
   ]
  },
  {
   "cell_type": "markdown",
   "metadata": {},
   "source": [
    "# 1 - Get the matches"
   ]
  },
  {
   "cell_type": "markdown",
   "metadata": {},
   "source": [
    "We will get started in your data collection by finding all the matches of the tournament."
   ]
  },
  {
   "cell_type": "markdown",
   "metadata": {},
   "source": [
    "The first endpoint we will use is the one giving data about the tournaments. More precisely, tournament with leagueId 9 is the one about Worlds since 2015."
   ]
  },
  {
   "cell_type": "code",
   "execution_count": 1,
   "metadata": {},
   "outputs": [],
   "source": [
    "import requests, json\n",
    "\n",
    "urlTournament=\"http://api.lolesports.com/api/v1/scheduleItems?leagueId=9\"\n",
    "r  = requests.get(urlTournament)\n",
    "rawTournamentData = json.loads(r.text)"
   ]
  },
  {
   "cell_type": "code",
   "execution_count": 2,
   "metadata": {},
   "outputs": [
    {
     "data": {
      "text/plain": [
       "dict_keys(['teams', 'players', 'highlanderTournaments', 'scheduleItems', 'highlanderRecords'])"
      ]
     },
     "execution_count": 2,
     "metadata": {},
     "output_type": "execute_result"
    }
   ],
   "source": [
    "rawTournamentData.keys()"
   ]
  },
  {
   "cell_type": "markdown",
   "metadata": {},
   "source": [
    "The response for this endpoint has multiple fields, and the one that interests us is the \"highlanderTournaments\" containing a list of all instances of the tournament, here the 4 Worlds championships since 2015"
   ]
  },
  {
   "cell_type": "code",
   "execution_count": 3,
   "metadata": {},
   "outputs": [
    {
     "data": {
      "text/plain": [
       "dict_keys(['platformIds', 'league', 'roles', 'queues', 'id', 'leagueId', 'liveMatches', 'startDate', 'rosters', 'published', 'leagueReference', 'endDate', 'gameIds', 'title', 'brackets', 'description', 'breakpoints'])"
      ]
     },
     "execution_count": 3,
     "metadata": {},
     "output_type": "execute_result"
    }
   ],
   "source": [
    "rawTournamentData[\"highlanderTournaments\"][3].keys()"
   ]
  },
  {
   "cell_type": "markdown",
   "metadata": {},
   "source": [
    "The \"id\" field of a tournament will be usefull later, we need to save it."
   ]
  },
  {
   "cell_type": "code",
   "execution_count": 4,
   "metadata": {},
   "outputs": [],
   "source": [
    "tournamentId = rawTournamentData['highlanderTournaments'][3][\"id\"]"
   ]
  },
  {
   "cell_type": "markdown",
   "metadata": {},
   "source": [
    "Among a lot of data, the \"brackets\" field is the one we want. The tournament follows this structure : \n",
    " - A tournament is a list of brackets, usually more or less independant. It can be a group from the group phase (each group has its own bracket) or a whole phase like the elimination (the tree with final, semi-finals...)\n",
    " - A bracket is a list of matches\n",
    " - A match is a confrontation between two teams, and handles the \"Best Of\" format (BO2, BO3, BO5...). So a match is a list of games."
   ]
  },
  {
   "cell_type": "markdown",
   "metadata": {},
   "source": [
    "From now, we can parse all games of all matches of all brackets. We will need two specific informations : the gameId for the match history, the gameId for lolesports which we will call gameUuid, and the matchId"
   ]
  },
  {
   "cell_type": "code",
   "execution_count": 5,
   "metadata": {},
   "outputs": [],
   "source": [
    "#Get the bracket for Worlds 2018\n",
    "brackets = rawTournamentData['highlanderTournaments'][3][\"brackets\"]\n",
    "\n",
    "matches = []\n",
    "games = {}\n",
    "\n",
    "#Get the list of matches and each of their games\n",
    "for bracketId in brackets:\n",
    "    bracket = brackets[bracketId]\n",
    "    \n",
    "    for matchId in bracket[\"matches\"]:\n",
    "        match = bracket[\"matches\"][matchId]\n",
    "        \n",
    "        for gameUuid in match['games']:\n",
    "            \n",
    "            game = match['games'][gameUuid]\n",
    "            \n",
    "            if 'gameId' in game:\n",
    "                matches.append(matchId)\n",
    "                games[gameUuid] = {\"matchHistoryId\":game['gameId'], \"realm\":game[\"gameRealm\"]}"
   ]
  },
  {
   "cell_type": "markdown",
   "metadata": {},
   "source": [
    "# 2 - Get the hashes"
   ]
  },
  {
   "cell_type": "markdown",
   "metadata": {},
   "source": [
    "Now we have some gameId, we could use this : "
   ]
  },
  {
   "cell_type": "code",
   "execution_count": 6,
   "metadata": {},
   "outputs": [
    {
     "data": {
      "text/plain": [
       "{'matchHistoryId': '2002860116', 'realm': 'TRLH2'}"
      ]
     },
     "execution_count": 6,
     "metadata": {},
     "output_type": "execute_result"
    }
   ],
   "source": [
    "games[next(iter(games.keys()))]"
   ]
  },
  {
   "cell_type": "markdown",
   "metadata": {},
   "source": [
    "to go to the matchHistory website and have all we want by folowing this link : "
   ]
  },
  {
   "cell_type": "code",
   "execution_count": 7,
   "metadata": {},
   "outputs": [
    {
     "data": {
      "text/plain": [
       "'https://matchhistory.na.leagueoflegends.com/en/#match-details/TRLH2/2002860116'"
      ]
     },
     "execution_count": 7,
     "metadata": {},
     "output_type": "execute_result"
    }
   ],
   "source": [
    "baseMatchHistoryUrl = \"https://matchhistory.na.leagueoflegends.com/en/#match-details/{}/{}\"\n",
    "baseMatchHistoryUrl.format(games[next(iter(games.keys()))][\"realm\"],games[next(iter(games.keys()))][\"matchHistoryId\"])"
   ]
  },
  {
   "cell_type": "markdown",
   "metadata": {},
   "source": [
    "However, the match history pages are protected by a hash."
   ]
  },
  {
   "cell_type": "markdown",
   "metadata": {},
   "source": [
    "We can obtain the hashes by using a second lolesports endpoint serving matches details, which will need the tournamentId we saved earlier"
   ]
  },
  {
   "cell_type": "code",
   "execution_count": 8,
   "metadata": {},
   "outputs": [],
   "source": [
    "matchId = next(iter(games.keys()))\n",
    "baseMatchUrl = \"http://api.lolesports.com/api/v2/highlanderMatchDetails?tournamentId={}&matchId={}\"\n",
    "r  = requests.get(baseMatchUrl.format(tournamentId,matches[0]))\n",
    "matchData = json.loads(r.text)"
   ]
  },
  {
   "cell_type": "markdown",
   "metadata": {},
   "source": [
    "This give some data about the teams, the links to videos of the games, and more important for us, the games hashes. We will be able to link games of the match to their respective hash"
   ]
  },
  {
   "cell_type": "code",
   "execution_count": 9,
   "metadata": {},
   "outputs": [],
   "source": [
    "for i in matchData[\"gameIdMappings\"]:\n",
    "    games[i[\"id\"]][\"hash\"] = i[\"gameHash\"]"
   ]
  },
  {
   "cell_type": "markdown",
   "metadata": {},
   "source": [
    "Now repeat the process for every match"
   ]
  },
  {
   "cell_type": "code",
   "execution_count": 10,
   "metadata": {},
   "outputs": [],
   "source": [
    "for matchId in matches:\n",
    "    r  = requests.get(baseMatchUrl.format(tournamentId,matchId))\n",
    "    matchData = json.loads(r.text)\n",
    "    for i in matchData[\"gameIdMappings\"]:\n",
    "        games[i[\"id\"]][\"hash\"] = i[\"gameHash\"]"
   ]
  },
  {
   "cell_type": "markdown",
   "metadata": {},
   "source": [
    "And access to the match history page"
   ]
  },
  {
   "cell_type": "code",
   "execution_count": 11,
   "metadata": {},
   "outputs": [
    {
     "data": {
      "text/plain": [
       "'https://matchhistory.na.leagueoflegends.com/en/#match-details/TRLH2/2002860116?gameHash=b2247ea535b6dc2f'"
      ]
     },
     "execution_count": 11,
     "metadata": {},
     "output_type": "execute_result"
    }
   ],
   "source": [
    "baseMatchHistoryUrl = \"https://matchhistory.na.leagueoflegends.com/en/#match-details/{}/{}?gameHash={}\"\n",
    "baseMatchHistoryUrl.format(games[next(iter(games.keys()))][\"realm\"],games[next(iter(games.keys()))][\"matchHistoryId\"],games[next(iter(games.keys()))][\"hash\"])"
   ]
  },
  {
   "cell_type": "markdown",
   "metadata": {},
   "source": [
    "# 3 - Get the games data"
   ]
  },
  {
   "cell_type": "markdown",
   "metadata": {},
   "source": [
    "We now have access to the game data. Like the Riot Games API, game data is split in to endpoint, one for the general data, and one about the timeline data."
   ]
  },
  {
   "cell_type": "code",
   "execution_count": 12,
   "metadata": {},
   "outputs": [
    {
     "data": {
      "text/plain": [
       "'https://acs.leagueoflegends.com/v1/stats/game/TRLH2/2002860116?gameHash=b2247ea535b6dc2f'"
      ]
     },
     "execution_count": 12,
     "metadata": {},
     "output_type": "execute_result"
    }
   ],
   "source": [
    "baseMatchHistoryStatsUrl = \"https://acs.leagueoflegends.com/v1/stats/game/{}/{}?gameHash={}\"\n",
    "baseMatchHistoryStatsUrl.format(games[next(iter(games.keys()))][\"realm\"],games[next(iter(games.keys()))][\"matchHistoryId\"],games[next(iter(games.keys()))][\"hash\"])"
   ]
  },
  {
   "cell_type": "code",
   "execution_count": 13,
   "metadata": {},
   "outputs": [
    {
     "data": {
      "text/plain": [
       "'https://acs.leagueoflegends.com/v1/stats/game/TRLH2/2002860116/timeline?gameHash=b2247ea535b6dc2f'"
      ]
     },
     "execution_count": 13,
     "metadata": {},
     "output_type": "execute_result"
    }
   ],
   "source": [
    "baseMatchHistoryStatsUrl.format(games[next(iter(games.keys()))][\"realm\"],games[next(iter(games.keys()))][\"matchHistoryId\"]+\"/timeline\",games[next(iter(games.keys()))][\"hash\"])"
   ]
  },
  {
   "cell_type": "code",
   "execution_count": null,
   "metadata": {},
   "outputs": [],
   "source": []
  }
 ],
 "metadata": {
  "kernelspec": {
   "display_name": "Python 3",
   "language": "python",
   "name": "python3"
  },
  "language_info": {
   "codemirror_mode": {
    "name": "ipython",
    "version": 3
   },
   "file_extension": ".py",
   "mimetype": "text/x-python",
   "name": "python",
   "nbconvert_exporter": "python",
   "pygments_lexer": "ipython3",
   "version": "3.5.4"
  }
 },
 "nbformat": 4,
 "nbformat_minor": 2
}
